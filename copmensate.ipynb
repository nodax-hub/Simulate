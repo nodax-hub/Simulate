{
 "cells": [
  {
   "metadata": {},
   "cell_type": "markdown",
   "source": [
    "## Алгоритм компенсации\n",
    "\n",
    "Обозначим список ключевых изменяющихся параметров (напрямую влияющие на фактический вылив):\n",
    "\n",
    "1. Ограничения насосов (мин/макс скорость, и их параметры ускорения/остановки)\n",
    "2. Норма внесения\n",
    "3. Максимально допустимая скорость дрона\n",
    "\n",
    "Обозначим порядок в котором будем менять параметры:\n",
    "1. Скорость дрона\n",
    "2. Норма внесения\n",
    "\n",
    "\n",
    "Возьмём в качестве критического значения вызывающего пересчёт с компенсацией:\n",
    "\n",
    "`max_available_error_litters = 1`\n",
    "\n",
    "Также не маловажно определить политику важности направления ошибки (есть ли разница, и что важнее - перелить или недолить):\n",
    "на текущий момент будем считать это равным"
   ],
   "id": "5c9ef5c0030cdea4"
  },
  {
   "cell_type": "code",
   "id": "initial_id",
   "metadata": {
    "collapsed": true,
    "ExecuteTime": {
     "end_time": "2025-09-09T13:26:50.659400Z",
     "start_time": "2025-09-09T13:26:50.647818Z"
    }
   },
   "source": "from policy import PolicyFactory, ViolationMode",
   "outputs": [],
   "execution_count": 1
  },
  {
   "metadata": {
    "ExecuteTime": {
     "end_time": "2025-09-09T13:26:51.337666Z",
     "start_time": "2025-09-09T13:26:50.678885Z"
    }
   },
   "cell_type": "code",
   "source": [
    "import numpy as np\n",
    "import matplotlib.pyplot as plt"
   ],
   "id": "4d6fb03cf02ba1c2",
   "outputs": [],
   "execution_count": 2
  },
  {
   "metadata": {
    "ExecuteTime": {
     "end_time": "2025-09-09T13:43:29.254076Z",
     "start_time": "2025-09-09T13:43:29.212326Z"
    }
   },
   "cell_type": "code",
   "source": [
    "policy = PolicyFactory.with_tolerance(over_tol=0.5,  # Допускаем переливать 0,5 л\n",
    "                                      under_tol=0.5,  # Допускаем не доливать 0,5 л\n",
    "                                      w_over=2,  # Переливание в 2 раза хуже\n",
    "                                      violation=ViolationMode.ERROR  # Кидаем исключения при нарушениях\n",
    "                                      )\n",
    "\n",
    "target = 0\n",
    "x = np.linspace(-10, 10, 21) / 10\n",
    "y = [policy.cost(target, i) for i in x]\n",
    "plt.plot(x, y)"
   ],
   "id": "ecf2934cc4dbdf9e",
   "outputs": [
    {
     "ename": "ConstraintViolation",
     "evalue": "Нарушено ограничение политики",
     "output_type": "error",
     "traceback": [
      "\u001B[31m---------------------------------------------------------------------------\u001B[39m",
      "\u001B[31mConstraintViolation\u001B[39m                       Traceback (most recent call last)",
      "\u001B[36mCell\u001B[39m\u001B[36m \u001B[39m\u001B[32mIn[49]\u001B[39m\u001B[32m, line 9\u001B[39m\n\u001B[32m      7\u001B[39m target = \u001B[32m0\u001B[39m\n\u001B[32m      8\u001B[39m x = np.linspace(-\u001B[32m10\u001B[39m, \u001B[32m10\u001B[39m, \u001B[32m21\u001B[39m) / \u001B[32m10\u001B[39m\n\u001B[32m----> \u001B[39m\u001B[32m9\u001B[39m y = [\u001B[43mpolicy\u001B[49m\u001B[43m.\u001B[49m\u001B[43mcost\u001B[49m\u001B[43m(\u001B[49m\u001B[43mtarget\u001B[49m\u001B[43m,\u001B[49m\u001B[43m \u001B[49m\u001B[43mi\u001B[49m\u001B[43m)\u001B[49m \u001B[38;5;28;01mfor\u001B[39;00m i \u001B[38;5;129;01min\u001B[39;00m x]\n\u001B[32m     10\u001B[39m plt.plot(x, y)\n",
      "\u001B[36mFile \u001B[39m\u001B[32m~\\PycharmProjects\\Simulate\\policy.py:165\u001B[39m, in \u001B[36mDecisionPolicy.cost\u001B[39m\u001B[34m(self, target, value)\u001B[39m\n\u001B[32m    164\u001B[39m \u001B[38;5;28;01mdef\u001B[39;00m\u001B[38;5;250m \u001B[39m\u001B[34mcost\u001B[39m(\u001B[38;5;28mself\u001B[39m, target: \u001B[38;5;28mfloat\u001B[39m, value: \u001B[38;5;28mfloat\u001B[39m) -> Optional[\u001B[38;5;28mfloat\u001B[39m]:\n\u001B[32m--> \u001B[39m\u001B[32m165\u001B[39m     \u001B[38;5;28;01mreturn\u001B[39;00m \u001B[38;5;28;43mself\u001B[39;49m\u001B[43m.\u001B[49m\u001B[43m_handle_violation\u001B[49m\u001B[43m(\u001B[49m\u001B[43mtarget\u001B[49m\u001B[43m,\u001B[49m\u001B[43m \u001B[49m\u001B[43mvalue\u001B[49m\u001B[43m,\u001B[49m\u001B[43m \u001B[49m\u001B[38;5;28;43;01mlambda\u001B[39;49;00m\u001B[43m \u001B[49m\u001B[43mv\u001B[49m\u001B[43m:\u001B[49m\u001B[43m \u001B[49m\u001B[38;5;28;43mself\u001B[39;49m\u001B[43m.\u001B[49m\u001B[43mloss\u001B[49m\u001B[43m.\u001B[49m\u001B[43mcost\u001B[49m\u001B[43m(\u001B[49m\u001B[43mv\u001B[49m\u001B[43m \u001B[49m\u001B[43m-\u001B[49m\u001B[43m \u001B[49m\u001B[43mtarget\u001B[49m\u001B[43m)\u001B[49m\u001B[43m)\u001B[49m\n",
      "\u001B[36mFile \u001B[39m\u001B[32m~\\PycharmProjects\\Simulate\\policy.py:160\u001B[39m, in \u001B[36mDecisionPolicy._handle_violation\u001B[39m\u001B[34m(self, target, value, on_valid)\u001B[39m\n\u001B[32m    158\u001B[39m     \u001B[38;5;28;01mreturn\u001B[39;00m \u001B[38;5;28;01mNone\u001B[39;00m\n\u001B[32m    159\u001B[39m \u001B[38;5;28;01mcase\u001B[39;00m ViolationMode.ERROR:\n\u001B[32m--> \u001B[39m\u001B[32m160\u001B[39m     \u001B[38;5;28;01mraise\u001B[39;00m \u001B[38;5;28mself\u001B[39m.ConstraintViolation(\u001B[33m\"\u001B[39m\u001B[33mНарушено ограничение политики\u001B[39m\u001B[33m\"\u001B[39m)\n\u001B[32m    161\u001B[39m \u001B[38;5;28;01mcase\u001B[39;00m\u001B[38;5;250m \u001B[39m\u001B[38;5;28;01m_\u001B[39;00m:\n\u001B[32m    162\u001B[39m     \u001B[38;5;28;01mraise\u001B[39;00m \u001B[38;5;28mself\u001B[39m.UnknownViolationMode(\u001B[33mf\u001B[39m\u001B[33m\"\u001B[39m\u001B[33mНеизвестный режим нарушения: \u001B[39m\u001B[38;5;132;01m{\u001B[39;00m\u001B[38;5;28mself\u001B[39m.violation\u001B[38;5;132;01m}\u001B[39;00m\u001B[33m\"\u001B[39m)\n",
      "\u001B[31mConstraintViolation\u001B[39m: Нарушено ограничение политики"
     ]
    }
   ],
   "execution_count": 49
  },
  {
   "metadata": {
    "ExecuteTime": {
     "end_time": "2025-09-09T13:40:57.925382Z",
     "start_time": "2025-09-09T13:40:57.918434Z"
    }
   },
   "cell_type": "code",
   "source": "x[np.argmin(y)]",
   "id": "9bfd32ce32ee3a86",
   "outputs": [
    {
     "data": {
      "text/plain": [
       "np.float64(0.0)"
      ]
     },
     "execution_count": 45,
     "metadata": {},
     "output_type": "execute_result"
    }
   ],
   "execution_count": 45
  },
  {
   "metadata": {},
   "cell_type": "code",
   "outputs": [],
   "execution_count": null,
   "source": "",
   "id": "dbb1066d93eef9ee"
  }
 ],
 "metadata": {
  "kernelspec": {
   "display_name": "Python 3",
   "language": "python",
   "name": "python3"
  },
  "language_info": {
   "codemirror_mode": {
    "name": "ipython",
    "version": 2
   },
   "file_extension": ".py",
   "mimetype": "text/x-python",
   "name": "python",
   "nbconvert_exporter": "python",
   "pygments_lexer": "ipython2",
   "version": "2.7.6"
  }
 },
 "nbformat": 4,
 "nbformat_minor": 5
}
